{
 "cells": [
  {
   "cell_type": "markdown",
   "id": "afd24b76",
   "metadata": {},
   "source": [
    "### 列表和数组"
   ]
  },
  {
   "cell_type": "markdown",
   "id": "29e02a60",
   "metadata": {},
   "source": [
    "#### 一维列表"
   ]
  },
  {
   "cell_type": "code",
   "execution_count": null,
   "id": "500cba93",
   "metadata": {},
   "outputs": [],
   "source": [
    "list_a=[1,2,3,4,5]"
   ]
  },
  {
   "cell_type": "code",
   "execution_count": null,
   "id": "bbc57571",
   "metadata": {},
   "outputs": [],
   "source": [
    "list_a"
   ]
  },
  {
   "cell_type": "code",
   "execution_count": null,
   "id": "ecc79b3e",
   "metadata": {},
   "outputs": [],
   "source": [
    "type(list_a)"
   ]
  },
  {
   "cell_type": "markdown",
   "id": "d1337438",
   "metadata": {},
   "source": [
    "#### 二维列表 数组"
   ]
  },
  {
   "cell_type": "code",
   "execution_count": null,
   "id": "855ed97a",
   "metadata": {},
   "outputs": [],
   "source": [
    "list_b=[[1,2],[3,4],[5,6]]"
   ]
  },
  {
   "cell_type": "code",
   "execution_count": null,
   "id": "022a8fd8",
   "metadata": {},
   "outputs": [],
   "source": [
    "list_b"
   ]
  },
  {
   "cell_type": "markdown",
   "id": "69b6e56f",
   "metadata": {},
   "source": [
    "输出数字2"
   ]
  },
  {
   "cell_type": "code",
   "execution_count": null,
   "id": "1c8a0cf1",
   "metadata": {},
   "outputs": [],
   "source": [
    "list_b[0][1]\n",
    "#因为2是数组中第一行的第二列 一行二列从零开始数的话变为[0][1]"
   ]
  },
  {
   "cell_type": "markdown",
   "id": "a496b052",
   "metadata": {},
   "source": [
    "### Numpy 高效处理数组"
   ]
  },
  {
   "cell_type": "markdown",
   "id": "0f7bfb9f",
   "metadata": {},
   "source": [
    "#### 创建列表"
   ]
  },
  {
   "cell_type": "code",
   "execution_count": null,
   "id": "f526e355",
   "metadata": {},
   "outputs": [],
   "source": [
    "#导入Numpy\n",
    "import numpy as np\n",
    "#创建列表\n",
    "list_c=[1,2,3,4]\n",
    "type(list_c)#list类型\n",
    "print(list_c)"
   ]
  },
  {
   "cell_type": "markdown",
   "id": "02d9082d",
   "metadata": {},
   "source": [
    "#### 把列表转为Numpy数组"
   ]
  },
  {
   "cell_type": "code",
   "execution_count": null,
   "id": "ce5c7844",
   "metadata": {},
   "outputs": [],
   "source": [
    "my_array=np.array(list_c)#[1 2 3 4]\n",
    "type(my_array)#numpy.ndarray类型\n",
    "print(my_array)"
   ]
  },
  {
   "cell_type": "markdown",
   "id": "072ccf19",
   "metadata": {},
   "source": [
    "#### 创建连续数字的数组 np.arange()"
   ]
  },
  {
   "cell_type": "code",
   "execution_count": null,
   "id": "f6edddbb",
   "metadata": {},
   "outputs": [],
   "source": [
    "#创建0-9的数字\n",
    "np.arange(10)#输出[0 1 2 3 4 5 6 7 8 9]\n",
    "#创建有间隔步长的数字\n",
    "np.arange(0,10,2)#输出[0 2 4 6 8] 0到10间隔为2"
   ]
  },
  {
   "cell_type": "markdown",
   "id": "77e38850",
   "metadata": {},
   "source": [
    "#### 创建带值的数组 0或1"
   ]
  },
  {
   "cell_type": "code",
   "execution_count": null,
   "id": "95be1b7c",
   "metadata": {},
   "outputs": [],
   "source": [
    "np.ones(5)#创建一个包含5个1的数组 输出[1. 1. 1. 1. 1.]\n",
    "np.zeros(5)#创建一个包含5个0的数组 输出[0. 0. 0. 0. 0.]"
   ]
  },
  {
   "cell_type": "markdown",
   "id": "e8e98fc7",
   "metadata": {},
   "source": [
    "#### 创建值指定行列的数组 shape=(行数, 列数) 形状表格"
   ]
  },
  {
   "cell_type": "code",
   "execution_count": null,
   "id": "e97a9ac2",
   "metadata": {},
   "outputs": [],
   "source": [
    "np.ones(shape=(3,4))#创建一个3行4列的数组 "
   ]
  },
  {
   "cell_type": "markdown",
   "id": "ade769b4",
   "metadata": {},
   "source": [
    "#### 创建随机数 np.random.randint()\n",
    "\n",
    "\n"
   ]
  },
  {
   "cell_type": "code",
   "execution_count": null,
   "id": "7663b719",
   "metadata": {},
   "outputs": [],
   "source": [
    "#创建0-100的随机10个整数\n",
    "arr=np.random.randint(0,100,10)"
   ]
  },
  {
   "cell_type": "markdown",
   "id": "b0dddf1a",
   "metadata": {},
   "source": [
    "#### 获取最大值/最小值/平均值&最大值的索引值"
   ]
  },
  {
   "cell_type": "code",
   "execution_count": null,
   "id": "1ea01a71",
   "metadata": {},
   "outputs": [],
   "source": [
    "print(arr.max())#最大值\n",
    "print(arr.min())#最小值\n",
    "print(arr.mean())#平均值\n",
    "print()#换行\n",
    "#取索引///////////////\n",
    "print(arr.argmax())#最大值的索引值\n",
    "print(arr.argmin())#最小值的索引值"
   ]
  },
  {
   "cell_type": "markdown",
   "id": "b1946c1a",
   "metadata": {},
   "source": [
    "#### 查看大小 xxx.shape"
   ]
  },
  {
   "cell_type": "code",
   "execution_count": null,
   "id": "f6fcbdba",
   "metadata": {},
   "outputs": [],
   "source": [
    "arr.shape"
   ]
  },
  {
   "cell_type": "markdown",
   "id": "650f1384",
   "metadata": {},
   "source": [
    "#### 转换数组形状 reshape((行,列))"
   ]
  },
  {
   "cell_type": "code",
   "execution_count": null,
   "id": "f1ce2fd1",
   "metadata": {},
   "outputs": [],
   "source": [
    "print(arr)#原来的形状\n",
    "arr.reshape((5,2))#将数组变为5行2列的形式\n",
    "#超出原有的数量会报错"
   ]
  },
  {
   "cell_type": "markdown",
   "id": "87fbc42f",
   "metadata": {},
   "source": [
    "#### Numpy&矩阵"
   ]
  },
  {
   "cell_type": "code",
   "execution_count": null,
   "id": "2e1e9b23",
   "metadata": {},
   "outputs": [],
   "source": [
    "#创建10*10的矩阵\n",
    "matrix = np.arange(0,100).reshape((10,10))#将数组变为10行10列的形式"
   ]
  },
  {
   "cell_type": "code",
   "execution_count": null,
   "id": "8aa12ff4",
   "metadata": {},
   "outputs": [],
   "source": [
    "matrix"
   ]
  },
  {
   "cell_type": "code",
   "execution_count": null,
   "id": "5952bc1a",
   "metadata": {},
   "outputs": [],
   "source": [
    "#取值 3行5列\n",
    "matrix[2][4]"
   ]
  },
  {
   "cell_type": "code",
   "execution_count": null,
   "id": "bb3c1259",
   "metadata": {},
   "outputs": [],
   "source": [
    "#取某一行的值  取2行的值\n",
    "matrix[1,:]"
   ]
  },
  {
   "cell_type": "code",
   "execution_count": null,
   "id": "ff65ff83",
   "metadata": {},
   "outputs": [],
   "source": [
    "#取某一列的值 取2列的值\n",
    "print(matrix[:,1])#[ 1 11 21 31 41 51 61 71 81 91]\n",
    "#把去除的列值改为竖着的\n",
    "matrix[:,1].reshape((10,1))#10行1列的矩阵 行变列"
   ]
  },
  {
   "cell_type": "code",
   "execution_count": null,
   "id": "48c746dd",
   "metadata": {},
   "outputs": [],
   "source": [
    "#矩阵切片 区域取值 \n",
    "# 取2到3行和第2到4列的区域元素\n",
    "matrix[0:3,1:4]"
   ]
  },
  {
   "cell_type": "code",
   "execution_count": 73,
   "id": "71424a6f",
   "metadata": {},
   "outputs": [
    {
     "name": "stdout",
     "output_type": "stream",
     "text": [
      "[[ 0  0  0  0  4  5  6  7  8  9]\n",
      " [10  0  0  0 14 15 16 17 18 19]\n",
      " [20  0  0  0 24 25 26 27 28 29]\n",
      " [30 31 32 33 34 35 36 37 38 39]\n",
      " [40 41 42 43 44 45 46 47 48 49]\n",
      " [50 51 52 53 54 55 56 57 58 59]\n",
      " [60 61 62 63 64 65 66 67 68 69]\n",
      " [70 71 72 73 74 75 76 77 78 79]\n",
      " [80 81 82 83 84 85 86 87 88 89]\n",
      " [90 91 92 93 94 95 96 97 98 99]]\n"
     ]
    }
   ],
   "source": [
    "#矩阵区域切片赋值\n",
    "matrix[0:3,1:4]=0#将矩阵的第0行到第2行，第1列到第3列的区域赋值为0\n",
    "print(matrix)"
   ]
  }
 ],
 "metadata": {
  "kernelspec": {
   "display_name": "Python 3",
   "language": "python",
   "name": "python3"
  },
  "language_info": {
   "codemirror_mode": {
    "name": "ipython",
    "version": 3
   },
   "file_extension": ".py",
   "mimetype": "text/x-python",
   "name": "python",
   "nbconvert_exporter": "python",
   "pygments_lexer": "ipython3",
   "version": "3.13.3"
  }
 },
 "nbformat": 4,
 "nbformat_minor": 5
}
