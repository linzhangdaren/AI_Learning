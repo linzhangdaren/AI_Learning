{
 "cells": [
  {
   "cell_type": "markdown",
   "id": "a8237e14",
   "metadata": {},
   "source": [
    "### 读取图片"
   ]
  },
  {
   "cell_type": "code",
   "execution_count": null,
   "id": "35b092d6",
   "metadata": {},
   "outputs": [],
   "source": [
    "#导入环境\n",
    "import cv2\n",
    "import numpy as np\n",
    "import matplotlib.pyplot as plt#matplotlib库"
   ]
  },
  {
   "cell_type": "code",
   "execution_count": null,
   "id": "00b1d600",
   "metadata": {},
   "outputs": [],
   "source": [
    "img_gs=cv2.imread(\"./img/guishu.jpg\")\n",
    "img_gs.shape"
   ]
  },
  {
   "cell_type": "code",
   "execution_count": null,
   "id": "ac80bd8b",
   "metadata": {},
   "outputs": [],
   "source": [
    "plt.imshow(img_gs)"
   ]
  },
  {
   "cell_type": "markdown",
   "id": "fda3f02c",
   "metadata": {},
   "source": [
    "### 颜色转换 BGR->RGB"
   ]
  },
  {
   "cell_type": "code",
   "execution_count": null,
   "id": "f5759086",
   "metadata": {},
   "outputs": [],
   "source": [
    "img_gs_rgb=cv2.cvtColor(img_gs,cv2.COLOR_BGR2RGB)\n",
    "plt.imshow(img_gs_rgb)\n"
   ]
  },
  {
   "cell_type": "markdown",
   "id": "b55011e4",
   "metadata": {},
   "source": [
    "### 图片上画图形"
   ]
  },
  {
   "cell_type": "code",
   "execution_count": null,
   "id": "90108d2b",
   "metadata": {},
   "outputs": [],
   "source": [
    "# 画一个矩形\n",
    "cv2.rectangle(img_gs_rgb, (100, 100), (300, 300), (255, 255, 0), 20)\n",
    "plt.imshow(img_gs_rgb)"
   ]
  },
  {
   "cell_type": "markdown",
   "id": "f20351bf",
   "metadata": {},
   "source": [
    "### 图片上添加汉字"
   ]
  },
  {
   "cell_type": "code",
   "execution_count": null,
   "id": "3ad9ea79",
   "metadata": {},
   "outputs": [],
   "source": [
    "#导入包:\n",
    "from PIL import Image, ImageDraw, ImageFont"
   ]
  },
  {
   "cell_type": "code",
   "execution_count": null,
   "id": "f8338e6b",
   "metadata": {},
   "outputs": [],
   "source": [
    "# 定义一个函数 注意事项:字体路径\n",
    "def cv2AddChineseText(img, text, position, textColor=(0, 255, 0), textSize=30):\n",
    "    img = Image.fromarray(cv2.cvtColor(img, cv2.COLOR_BGR2RGB))\n",
    "    print(type(img))\n",
    "    draw = ImageDraw.Draw(img)\n",
    "    \n",
    "    # 字体的格式\n",
    "    fontStyle = ImageFont.truetype(\"C:/Windows/Fonts/msyh.ttc\", textSize, encoding=\"utf-8\")\n",
    "    \n",
    "    # 绘制文本\n",
    "    draw.text(position, text, textColor, font=fontStyle)\n",
    "    \n",
    "    # 转换回OpenCV格式\n",
    "    return cv2.cvtColor(np.asarray(img), cv2.COLOR_RGB2BGR)\n"
   ]
  },
  {
   "cell_type": "code",
   "execution_count": null,
   "id": "500f8fbc",
   "metadata": {},
   "outputs": [],
   "source": [
    "#使用添加汉字函数\n",
    "img_gs_cn=cv2AddChineseText(img_gs,\"你好\",(100,400),textColor=(255,0,0),textSize=200)\n",
    "#颜色转换\n",
    "img_gs_cn=cv2.cvtColor(img_gs_cn,cv2.COLOR_BGR2RGB)\n",
    "#显示图片\n",
    "plt.imshow(img_gs_cn)"
   ]
  }
 ],
 "metadata": {
  "kernelspec": {
   "display_name": "Python 3",
   "language": "python",
   "name": "python3"
  },
  "language_info": {
   "codemirror_mode": {
    "name": "ipython",
    "version": 3
   },
   "file_extension": ".py",
   "mimetype": "text/x-python",
   "name": "python",
   "nbconvert_exporter": "python",
   "pygments_lexer": "ipython3",
   "version": "3.13.3"
  }
 },
 "nbformat": 4,
 "nbformat_minor": 5
}
