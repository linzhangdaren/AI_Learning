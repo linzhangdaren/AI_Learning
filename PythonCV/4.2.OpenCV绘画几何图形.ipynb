{
 "cells": [
  {
   "cell_type": "markdown",
   "id": "bad267f3",
   "metadata": {},
   "source": [
    "### OpenCV绘画几何图形"
   ]
  },
  {
   "cell_type": "code",
   "execution_count": null,
   "id": "b0286f71",
   "metadata": {},
   "outputs": [],
   "source": [
    "#导入包\n",
    "import cv2\n",
    "import numpy as np\n",
    "import matplotlib.pyplot as plt\n",
    "\n",
    "#如果显示不争取缺加上以下代码\n",
    "# %matplotlib inline#在jupyter中使用意思是将图片显示在notebook中"
   ]
  },
  {
   "cell_type": "markdown",
   "id": "3dc57b47",
   "metadata": {},
   "source": [
    "#### 创建一张黑色图片800*800"
   ]
  },
  {
   "cell_type": "code",
   "execution_count": null,
   "id": "0aae4417",
   "metadata": {},
   "outputs": [],
   "source": [
    "#创建一个800x800的空白图像，3通道，数据类型为uint8整型\n",
    "black_img = np.zeros(shape=(800, 800, 3),dtype=np.uint8)"
   ]
  },
  {
   "cell_type": "code",
   "execution_count": null,
   "id": "6451efec",
   "metadata": {},
   "outputs": [],
   "source": [
    "#查看属性大小\n",
    "black_img.shape"
   ]
  },
  {
   "cell_type": "code",
   "execution_count": null,
   "id": "a8441e54",
   "metadata": {},
   "outputs": [],
   "source": [
    "#plt显示以下\n",
    "plt.imshow(black_img)"
   ]
  },
  {
   "cell_type": "markdown",
   "id": "87c97fb0",
   "metadata": {},
   "source": [
    "### 绘画形状"
   ]
  },
  {
   "cell_type": "markdown",
   "id": "7b9827ec",
   "metadata": {},
   "source": [
    "#### 绘画矩形"
   ]
  },
  {
   "cell_type": "code",
   "execution_count": null,
   "id": "fd258433",
   "metadata": {},
   "outputs": [],
   "source": [
    "cv2.rectangle(img=black_img,pt1=(100,100),pt2=(400,300),color=(0,255,0),thickness=10)\n",
    "#"
   ]
  },
  {
   "cell_type": "code",
   "execution_count": null,
   "id": "57691e32",
   "metadata": {},
   "outputs": [],
   "source": [
    "plt.imshow(black_img)"
   ]
  },
  {
   "cell_type": "markdown",
   "id": "c5ea5bcf",
   "metadata": {},
   "source": [
    "#### 绘画正方形"
   ]
  },
  {
   "cell_type": "code",
   "execution_count": null,
   "id": "fca2b6b5",
   "metadata": {},
   "outputs": [],
   "source": [
    "cv2.rectangle(img=black_img,pt1=(20,550),pt2=(220,750),color=(255,0,0),thickness=10)"
   ]
  },
  {
   "cell_type": "code",
   "execution_count": null,
   "id": "3cabbbad",
   "metadata": {},
   "outputs": [],
   "source": [
    "#显示\n",
    "plt.imshow(black_img)"
   ]
  },
  {
   "cell_type": "markdown",
   "id": "b10de5e2",
   "metadata": {},
   "source": [
    "#### 绘制圆形"
   ]
  },
  {
   "cell_type": "code",
   "execution_count": null,
   "id": "d47d4d14",
   "metadata": {},
   "outputs": [],
   "source": [
    "cv2.circle(img=black_img,center=(250,250),radius=100,color=(255,255,0),thickness=10)"
   ]
  },
  {
   "cell_type": "code",
   "execution_count": null,
   "id": "f5b4f888",
   "metadata": {},
   "outputs": [],
   "source": [
    "plt.imshow(black_img)"
   ]
  },
  {
   "cell_type": "markdown",
   "id": "2296333c",
   "metadata": {},
   "source": [
    "#### 画一个实心圆 只要把参数thickness=-1"
   ]
  },
  {
   "cell_type": "code",
   "execution_count": null,
   "id": "c834df07",
   "metadata": {},
   "outputs": [],
   "source": [
    "cv2.circle(img=black_img,center=(500,600),radius=100,color=(200,200,200),thickness=-1)"
   ]
  },
  {
   "cell_type": "code",
   "execution_count": null,
   "id": "5ea6c704",
   "metadata": {},
   "outputs": [],
   "source": [
    "plt.imshow(black_img)"
   ]
  },
  {
   "cell_type": "markdown",
   "id": "5cb8bb97",
   "metadata": {},
   "source": [
    "#### 画一条线"
   ]
  },
  {
   "cell_type": "code",
   "execution_count": null,
   "id": "f4403283",
   "metadata": {},
   "outputs": [],
   "source": [
    "cv2.line(img=black_img,pt1=(0,0),pt2=(800,800),color=(255,100,100),thickness=10)"
   ]
  },
  {
   "cell_type": "code",
   "execution_count": null,
   "id": "4ce0e95b",
   "metadata": {},
   "outputs": [],
   "source": [
    "plt.imshow(black_img)"
   ]
  },
  {
   "cell_type": "markdown",
   "id": "f19aa2db",
   "metadata": {},
   "source": [
    "#### 添加英文字母"
   ]
  },
  {
   "cell_type": "code",
   "execution_count": null,
   "id": "dd353a0c",
   "metadata": {},
   "outputs": [],
   "source": [
    "cv2.putText(img=black_img,text=\"Python\",org=(500,200) ,fontFace=cv2.QT_FONT_BLACK,fontScale=2,color=(255,255,255),thickness=2)"
   ]
  },
  {
   "cell_type": "code",
   "execution_count": null,
   "id": "938f87c4",
   "metadata": {},
   "outputs": [],
   "source": [
    "plt.imshow(black_img)"
   ]
  },
  {
   "cell_type": "markdown",
   "id": "60f1c128",
   "metadata": {},
   "source": [
    "#### 画多边形"
   ]
  },
  {
   "cell_type": "code",
   "execution_count": null,
   "id": "2fa3a82b",
   "metadata": {},
   "outputs": [],
   "source": [
    "#清空画布 重新创建一个800*800的黑色画布\n",
    "black_img=np.zeros(shape=(800,800,3),dtype=np.uint8)\n",
    "\n",
    "plt.imshow(black_img)"
   ]
  },
  {
   "cell_type": "markdown",
   "id": "a6af9824",
   "metadata": {},
   "source": [
    "opencv的顶点用二维数组表示，所以一个顶点的坐标表示为[x,y]，\n",
    "而多个顶点的坐标表示为[[x1,y1],[x2,y2],[x3,y3]...]"
   ]
  },
  {
   "cell_type": "code",
   "execution_count": null,
   "id": "1ca1cabf",
   "metadata": {},
   "outputs": [],
   "source": [
    "#1.创建置好点位\n",
    "points=np.array([[400,100],[200,300],[400,700],[600,300]],dtype=np.int32)"
   ]
  },
  {
   "cell_type": "markdown",
   "id": "3fc97bab",
   "metadata": {},
   "source": [
    "在计算机视觉和图形处理场景中，(N, 1, 2) 形状的数组也常用来表示二维点集。N用-1表示    \n",
    "例如在 OpenCV 里，部分函数（像 cv2.drawContours）要求输入的轮廓点集形状为 (N, 1, 2)，  \n",
    "其中 N 是点的数量，每个点由两个坐标值（x 和 y）构成"
   ]
  },
  {
   "cell_type": "markdown",
   "id": "ab6aee35",
   "metadata": {},
   "source": [
    "第一个维度 -1：-1 是特殊值，NumPy 会依据数组元素总数和其他维度的大小自动计算此维度的长度。  \n",
    "例如，若原数组有 n 个元素，第二个维度为 1，第三个维度为 2，那么第一个维度的长度就是 n / (1 * 2)。  \n",
    "第二个维度 1：表示新数组在第二个维度上的长度为 1，即该维度只有一个元素。  \n",
    "第三个维度 2：表示新数组在第三个维度上的长度为 2，通常意味着每个元素是一个包含两个值的子数组。"
   ]
  },
  {
   "cell_type": "code",
   "execution_count": null,
   "id": "818d8641",
   "metadata": {},
   "outputs": [],
   "source": [
    "#2.reshape格式转换\n",
    "pts=points.reshape((-1,1,2))\n",
    "pts.shape#(4,1,2)表示\n"
   ]
  },
  {
   "cell_type": "code",
   "execution_count": null,
   "id": "1344e8f0",
   "metadata": {},
   "outputs": [],
   "source": [
    "#3.开始绘制 记得pts还得包裹一次:[plt]\n",
    "cv2.polylines(img=black_img,pts=[pts],isClosed=True,color=(255,0,255),thickness=3)"
   ]
  },
  {
   "cell_type": "code",
   "execution_count": null,
   "id": "1a0ba54f",
   "metadata": {},
   "outputs": [],
   "source": [
    "#预览图像\n",
    "plt.imshow(black_img)"
   ]
  }
 ],
 "metadata": {
  "kernelspec": {
   "display_name": "Python 3",
   "language": "python",
   "name": "python3"
  },
  "language_info": {
   "codemirror_mode": {
    "name": "ipython",
    "version": 3
   },
   "file_extension": ".py",
   "mimetype": "text/x-python",
   "name": "python",
   "nbconvert_exporter": "python",
   "pygments_lexer": "ipython3",
   "version": "3.13.3"
  }
 },
 "nbformat": 4,
 "nbformat_minor": 5
}
