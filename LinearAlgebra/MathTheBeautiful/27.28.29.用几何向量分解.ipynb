{
 "cells": [
  {
   "cell_type": "markdown",
   "id": "2bdd6b91",
   "metadata": {},
   "source": [
    "<img src=\"img/27.用几何向量分解.excalidraw.png\" width=\"300\">"
   ]
  },
  {
   "cell_type": "markdown",
   "id": "989564b4",
   "metadata": {},
   "source": [
    "c= a/2 + 1b  \n",
    "d= -1a + 1b  \n",
    "e= -1a + 0b  \n",
    "f= -a/2 + -1b"
   ]
  },
  {
   "cell_type": "markdown",
   "id": "b7a24b75",
   "metadata": {},
   "source": [
    "<img src=\"img/28.用几何向量分解.excalidraw.png\" width=\"300\">"
   ]
  },
  {
   "cell_type": "markdown",
   "id": "09f5bfb0",
   "metadata": {},
   "source": [
    "c= 2(a-b)\n",
    "c= 2a + -2b \n",
    "\n",
    "d= -2a + 3b  \n",
    "\n",
    "e= -2(a-b)  \n",
    "e= -2a + 2b  \n",
    "\n",
    "f= -1a + 0b   \n"
   ]
  },
  {
   "cell_type": "markdown",
   "id": "3e4c4e70",
   "metadata": {},
   "source": [
    "其中d有另一种解法:  \n",
    "因为如果b在a上那么a=1 离开a越远趋近于0那么就离d越近  \n",
    "估算出 b=3/2的a + 3/1的d  \n",
    "两边分别乘3去掉分母3  \n",
    "3b=2a+d  \n",
    "d=3d-2a    \n"
   ]
  }
 ],
 "metadata": {
  "language_info": {
   "name": "python"
  }
 },
 "nbformat": 4,
 "nbformat_minor": 5
}
