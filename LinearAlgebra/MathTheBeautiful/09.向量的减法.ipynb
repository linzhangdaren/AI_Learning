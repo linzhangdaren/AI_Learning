{
 "cells": [
  {
   "cell_type": "markdown",
   "id": "bf6cc31e",
   "metadata": {},
   "source": [
    "<img src=\"img/09.向量的减法.excalidraw.png\" width=\"1000\">"
   ]
  },
  {
   "cell_type": "markdown",
   "id": "57d93baa",
   "metadata": {},
   "source": [
    "向量减法的衍变原理&加减法的对比 正好是平行四边形的对角线  \n",
    "减法比加法还要直观 因为加法还需要平行四边形"
   ]
  }
 ],
 "metadata": {
  "language_info": {
   "name": "python"
  }
 },
 "nbformat": 4,
 "nbformat_minor": 5
}
