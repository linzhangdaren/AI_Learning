{
 "cells": [
  {
   "cell_type": "markdown",
   "id": "d636f6c1",
   "metadata": {},
   "source": [
    "<img src=\"img/21.向量系数相加为1.excalidraw.png\" width=\"1200\">"
   ]
  },
  {
   "cell_type": "markdown",
   "id": "afc37422",
   "metadata": {},
   "source": [
    "可见无论如何取值 点的结果都在一条直线上"
   ]
  },
  {
   "cell_type": "markdown",
   "id": "9ce67b84",
   "metadata": {},
   "source": [
    "<img src=\"img/21.系数公式衍变.excalidraw.png\" width=\"300\">"
   ]
  }
 ],
 "metadata": {
  "language_info": {
   "name": "python"
  }
 },
 "nbformat": 4,
 "nbformat_minor": 5
}
