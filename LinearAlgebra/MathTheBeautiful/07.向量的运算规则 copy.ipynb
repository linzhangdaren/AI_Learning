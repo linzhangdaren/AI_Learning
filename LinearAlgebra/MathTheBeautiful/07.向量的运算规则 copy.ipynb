{
 "cells": [
  {
   "cell_type": "markdown",
   "id": "782727f0",
   "metadata": {},
   "source": [
    "[课程地址][https://www.bilibili.com/video/BV1DWNQzxE8q] "
   ]
  },
  {
   "cell_type": "markdown",
   "id": "84fefc6b",
   "metadata": {},
   "source": [
    "<img src=\"img/7.向量的加法.excalidraw.png\" width=\"600\">"
   ]
  },
  {
   "cell_type": "markdown",
   "id": "5bf51387",
   "metadata": {},
   "source": [
    "可见符合平行四边形法则  \n",
    "但是在一条线上就无法使用平行四边形了因为都重合了"
   ]
  }
 ],
 "metadata": {
  "language_info": {
   "name": "python"
  }
 },
 "nbformat": 4,
 "nbformat_minor": 5
}
