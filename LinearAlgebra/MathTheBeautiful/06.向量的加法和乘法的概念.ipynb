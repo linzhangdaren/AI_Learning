{
 "cells": [
  {
   "cell_type": "markdown",
   "id": "782727f0",
   "metadata": {},
   "source": [
    "[课程地址][https://www.bilibili.com/video/BV1DWNQzxE8q] "
   ]
  },
  {
   "cell_type": "markdown",
   "id": "84fefc6b",
   "metadata": {},
   "source": [
    "<img src=\"img/6.向量的加法.excalidraw.png\" width=\"600\">"
   ]
  },
  {
   "cell_type": "markdown",
   "id": "cac21ce9",
   "metadata": {},
   "source": [
    "<img src=\"img/6.2.向量的乘法.excalidraw.png\" width=\"600\">"
   ]
  }
 ],
 "metadata": {
  "language_info": {
   "name": "python"
  }
 },
 "nbformat": 4,
 "nbformat_minor": 5
}
