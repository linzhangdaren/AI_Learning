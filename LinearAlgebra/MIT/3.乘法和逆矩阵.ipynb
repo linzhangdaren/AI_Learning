{
 "cells": [
  {
   "cell_type": "markdown",
   "id": "a71327c7",
   "metadata": {},
   "source": [
    "## 乘法和逆矩阵"
   ]
  },
  {
   "cell_type": "markdown",
   "id": "1ba9382c",
   "metadata": {},
   "source": [
    "<img src=\"img\\3.矩阵乘法.png\" width=\"500\">"
   ]
  },
  {
   "cell_type": "markdown",
   "id": "ad2d70e8",
   "metadata": {},
   "source": [
    "C中的3行4列元是由 A中3行 乘 B中4列 得出的写成:  \n",
    "C34=(row 3 of A) · (col 4 of B)  \n",
    "C34=(A表的3行)点乘(B表的4列) "
   ]
  },
  {
   "cell_type": "markdown",
   "id": "f7409665",
   "metadata": {},
   "source": [
    "<img src=\"img\\3.矩阵乘法(行和列).excalidraw.svg\" width=\"800\">"
   ]
  },
  {
   "cell_type": "markdown",
   "id": "f2f6ea45",
   "metadata": {},
   "source": [
    "A的列数=B的行数  \n",
    "A (m行*n列)  \n",
    "B (n行*p列)  \n",
    "不然无法计算  \n",
    "\n",
    "C矩阵的行数=A的行数  m行  \n",
    "C矩阵的列数=B的列数  p列  \n",
    "C=m*p  "
   ]
  }
 ],
 "metadata": {
  "language_info": {
   "name": "python"
  }
 },
 "nbformat": 4,
 "nbformat_minor": 5
}
