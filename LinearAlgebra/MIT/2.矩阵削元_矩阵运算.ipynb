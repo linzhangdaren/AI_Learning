{
 "cells": [
  {
   "cell_type": "markdown",
   "id": "793184e2",
   "metadata": {},
   "source": [
    "## 运算总结"
   ]
  },
  {
   "cell_type": "markdown",
   "id": "0ac23655",
   "metadata": {},
   "source": [
    "### 1.矩阵*列向量"
   ]
  },
  {
   "cell_type": "markdown",
   "id": "3a889ab2",
   "metadata": {},
   "source": [
    "$\\begin{bmatrix} \n",
    "x & x & x\\\\ \n",
    "x & x & x \\\\ \n",
    "x & x & x\n",
    "\\end{bmatrix} \n",
    "\\begin{bmatrix} \n",
    "x \\\\ \n",
    "y \\\\ \n",
    "z \n",
    "\\end{bmatrix}$\n"
   ]
  },
  {
   "cell_type": "markdown",
   "id": "9774aa3a",
   "metadata": {},
   "source": [
    "x乘列1 (x乘col1)  \n",
    "+  \n",
    "y乘列2 (y乘col2)  \n",
    "+  \n",
    "z乘列3 (z乘col3)"
   ]
  },
  {
   "cell_type": "markdown",
   "id": "128ff7ce",
   "metadata": {},
   "source": [
    "### 2.行(向量&矩阵)*矩阵"
   ]
  },
  {
   "cell_type": "markdown",
   "id": "dff4c61a",
   "metadata": {},
   "source": [
    "$\\begin{bmatrix} \n",
    "x& y& z\n",
    "\\end{bmatrix} \n",
    "\\begin{bmatrix} \n",
    "x & x & x\\\\ \n",
    "x & x & x \\\\ \n",
    "x & x & x\n",
    "\\end{bmatrix}$"
   ]
  },
  {
   "cell_type": "markdown",
   "id": "e612eb89",
   "metadata": {},
   "source": [
    "x乘行1(x乘row1)   \n",
    "+  \n",
    "y乘行2(y乘row2)  \n",
    "+   \n",
    "z乘行3(z乘row3)"
   ]
  },
  {
   "cell_type": "markdown",
   "id": "d15596cc",
   "metadata": {},
   "source": [
    "如何理解这种行的乘法?  \n",
    "可以理解为几倍的行向量  \n",
    "这样就可方便的用来削元了!!!"
   ]
  },
  {
   "cell_type": "markdown",
   "id": "ea4ac3a8",
   "metadata": {},
   "source": [
    "### 3.行倍数削元!"
   ]
  },
  {
   "cell_type": "markdown",
   "id": "7dca5041",
   "metadata": {},
   "source": [
    "单位矩阵:乘了跟没乘一样 如1*x = x  \n",
    "$\n",
    "\\begin{bmatrix}\n",
    "1 & 0 & 0 \\\\\n",
    "0 & 1 & 0 \\\\ \n",
    "0 & 0 & 1\n",
    "\\end{bmatrix}\n",
    "$"
   ]
  },
  {
   "cell_type": "markdown",
   "id": "7fbfe360",
   "metadata": {},
   "source": [
    "$\n",
    "\\begin{bmatrix}\n",
    "① & 2 & 1 \\\\\n",
    "3 & 8 & 1 \\\\\n",
    "0 & 4 & 1\n",
    "\\end{bmatrix}\n",
    "$\n",
    "第二行削元 减一行的三倍\n",
    "$\n",
    "\\begin{bmatrix}\n",
    "① & 2 & 1 \\\\\n",
    "0 & ② & -2 \\\\\n",
    "0 & 4 & 1\n",
    "\\end{bmatrix}\n",
    "$\n",
    "第三行削元 减二行的二倍\n",
    "$\n",
    "\\begin{bmatrix}\n",
    "① & 2 & 1 \\\\\n",
    "0 & ② & -2 \\\\\n",
    "0 & 0 & ⑤\n",
    "\\end{bmatrix}\n",
    "$"
   ]
  },
  {
   "cell_type": "markdown",
   "id": "10a93b88",
   "metadata": {},
   "source": [
    "推算啥样的矩阵乘以后可以削元?\n"
   ]
  },
  {
   "cell_type": "markdown",
   "id": "ca0b8388",
   "metadata": {},
   "source": [
    "1. 第二行 减 一行的三倍  \n",
    "E21"
   ]
  },
  {
   "cell_type": "markdown",
   "id": "b3ab16c9",
   "metadata": {},
   "source": [
    "$\n",
    "\\begin{bmatrix}\n",
    "1 & 0 & 0 \\\\\n",
    "-3 & 1 & 0 \\\\\n",
    "0 & 0 & 1\n",
    "\\end{bmatrix}\n",
    "$\n",
    "乘以\n",
    "$\n",
    "\\begin{bmatrix}\n",
    "① & 2 & 1 \\\\\n",
    "3 & 8 & 1 \\\\\n",
    "0 & 4 & 1\n",
    "\\end{bmatrix}\n",
    "$\n",
    "等于\n",
    "$\n",
    "\\begin{bmatrix}\n",
    "① & 2 & 1 \\\\\n",
    "0 & ② & -2 \\\\\n",
    "0 & 4 & 1\n",
    "\\end{bmatrix}\n",
    "$"
   ]
  },
  {
   "cell_type": "markdown",
   "id": "b026bf2f",
   "metadata": {},
   "source": [
    "2. 第三行 减 二行的二倍  \n",
    "E32"
   ]
  },
  {
   "cell_type": "markdown",
   "id": "903657bf",
   "metadata": {},
   "source": [
    "$\n",
    "\\begin{bmatrix}\n",
    "1 & 0 & 0 \\\\\n",
    "0 & 1 & 0 \\\\\n",
    "0 & -2 & 1\n",
    "\\end{bmatrix}\n",
    "$\n",
    "乘以\n",
    "$\n",
    "\\begin{bmatrix}\n",
    "① & 2 & 1 \\\\\n",
    "0 & ② & -2 \\\\\n",
    "0 & 4 & 1\n",
    "\\end{bmatrix}\n",
    "$\n",
    "等于\n",
    "$\n",
    "\\begin{bmatrix}\n",
    "① & 2 & 1 \\\\\n",
    "0 & ② & -2 \\\\\n",
    "0 & 0 & 5\n",
    "\\end{bmatrix}\n",
    "$"
   ]
  },
  {
   "cell_type": "markdown",
   "id": "8ab3c22e",
   "metadata": {},
   "source": [
    "3. 可以结合步骤:  \n",
    "`E32*(E21*A)=U`  \n",
    "如何一次性解决两个步骤?  \n",
    "乘法结合律 注意不能交换    \n",
    "`(E32*E21)*A=U`  \n",
    "可以不用这样因为还有更好的办法  \n"
   ]
  },
  {
   "cell_type": "markdown",
   "id": "2578301c",
   "metadata": {},
   "source": [
    "### 4. 逆变换  Invesses\n",
    "不用考虑A如何变为U的 而是考虑U如何变为A的  \n",
    "恢复原来没有改变的A   \n",
    "第二行削元 减一行的三倍 逆反就是加上一行三倍  \n",
    "记作E-1"
   ]
  },
  {
   "cell_type": "markdown",
   "id": "e715ffe5",
   "metadata": {},
   "source": [
    "$\n",
    "\\begin{bmatrix}\n",
    "1 & 0 & 0 \\\\\n",
    "3 & 1 & 0 \\\\\n",
    "0 & 0 & 1\n",
    "\\end{bmatrix}\n",
    "$\n",
    "乘以\n",
    "$\n",
    "\\begin{bmatrix}\n",
    "1 & 0 & 0 \\\\\n",
    "-3 & 1 & 0 \\\\\n",
    "0 & 0 & 1\n",
    "\\end{bmatrix}\n",
    "$\n",
    "等于\n",
    "$\n",
    "\\begin{bmatrix}\n",
    "1 & 0 & 0 \\\\\n",
    "0 & 1 & 0 \\\\\n",
    "0 & 0 & 1\n",
    "\\end{bmatrix}\n",
    "$"
   ]
  },
  {
   "cell_type": "markdown",
   "id": "339216b5",
   "metadata": {},
   "source": [
    "### 5.行列之间的交换"
   ]
  },
  {
   "cell_type": "markdown",
   "id": "9c132e74",
   "metadata": {},
   "source": [
    "1. 行的交换 (左乘)"
   ]
  },
  {
   "cell_type": "markdown",
   "id": "1e051022",
   "metadata": {},
   "source": [
    "$\n",
    "\\begin{bmatrix}\n",
    "0 & 1 \\\\\n",
    "1 & 0 \n",
    "\\end{bmatrix}\n",
    "\\begin{bmatrix}\n",
    "a & b \\\\\n",
    "c & d \n",
    "\\end{bmatrix}=\n",
    "\\begin{bmatrix}\n",
    "c & d \\\\\n",
    "a & b\n",
    "\\end{bmatrix}\n",
    "$"
   ]
  },
  {
   "cell_type": "markdown",
   "id": "bb520893",
   "metadata": {},
   "source": [
    "2. 列的交换 (右乘)"
   ]
  },
  {
   "cell_type": "markdown",
   "id": "0632e334",
   "metadata": {},
   "source": [
    "$\n",
    "\\begin{bmatrix}\n",
    "a & b \\\\\n",
    "c & d \n",
    "\\end{bmatrix}\n",
    "\\begin{bmatrix}\n",
    "0 & 1 \\\\\n",
    "1 & 0\n",
    "\\end{bmatrix}=\n",
    "\\begin{bmatrix}\n",
    "b & a \\\\\n",
    "d & c\n",
    "\\end{bmatrix}\n",
    "$"
   ]
  }
 ],
 "metadata": {
  "language_info": {
   "name": "python"
  }
 },
 "nbformat": 4,
 "nbformat_minor": 5
}
