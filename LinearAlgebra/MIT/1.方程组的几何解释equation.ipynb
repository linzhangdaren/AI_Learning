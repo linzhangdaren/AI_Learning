{
 "cells": [
  {
   "cell_type": "markdown",
   "id": "2cbb3a8d",
   "metadata": {},
   "source": [
    "# 麻省理工学院:线性代数"
   ]
  },
  {
   "cell_type": "markdown",
   "id": "10f08d15",
   "metadata": {},
   "source": [
    "## 基础"
   ]
  },
  {
   "cell_type": "markdown",
   "id": "d9f176b6",
   "metadata": {},
   "source": [
    "### 公式的理解"
   ]
  },
  {
   "cell_type": "markdown",
   "id": "b1b45a08",
   "metadata": {},
   "source": [
    "$\n",
    "\\begin{cases}\n",
    "2x - y = 0 \\\\\n",
    "-x + 2y = 3\n",
    "\\end{cases}\n",
    "$"
   ]
  },
  {
   "cell_type": "markdown",
   "id": "9fd593f4",
   "metadata": {},
   "source": [
    "以上公式可以写成以下方式:  \n",
    "把未数和未知数拆分开"
   ]
  },
  {
   "cell_type": "markdown",
   "id": "62913f63",
   "metadata": {},
   "source": [
    "$\n",
    "\\begin{bmatrix} 2 & -1 \\\\ -1 & 2 \\end{bmatrix} \\begin{bmatrix} x \\\\ y \\end{bmatrix} = \\begin{bmatrix} 0 \\\\ 3 \\end{bmatrix}\n",
    "$"
   ]
  },
  {
   "cell_type": "markdown",
   "id": "e9362e2a",
   "metadata": {},
   "source": [
    "两个未知数组成了一组[x,y]或$\\begin{bmatrix} x \\\\ y \\end{bmatrix}$向量"
   ]
  },
  {
   "cell_type": "markdown",
   "id": "e566a46e",
   "metadata": {},
   "source": [
    "把以上的线性方程组写成AX=b  \n",
    "A 矩阵  [2,-1...]  \n",
    "X 向量  [x,y]  \n",
    "b 向量  [0,3]    "
   ]
  },
  {
   "cell_type": "markdown",
   "id": "51c365c0",
   "metadata": {},
   "source": [
    "### 绘制方程组的平面坐标系图"
   ]
  },
  {
   "cell_type": "code",
   "execution_count": 1,
   "id": "94406ef3",
   "metadata": {},
   "outputs": [],
   "source": [
    "# 导入模块\n",
    "import numpy as np\n",
    "import matplotlib.pyplot as plt\n"
   ]
  },
  {
   "cell_type": "code",
   "execution_count": 2,
   "id": "10784094",
   "metadata": {},
   "outputs": [],
   "source": [
    "#jupyter 行中正确显示\n",
    "%matplotlib inline"
   ]
  },
  {
   "cell_type": "code",
   "execution_count": 3,
   "id": "73d3ee6d",
   "metadata": {},
   "outputs": [
    {
     "name": "stdout",
     "output_type": "stream",
     "text": [
      "方程组的解为: [1. 2.]\n"
     ]
    },
    {
     "data": {
      "image/png": "[encoded data removed]",
      "text/plain": [
       "<Figure size 500x500 with 1 Axes>"
      ]
     },
     "metadata": {},
     "output_type": "display_data"
    }
   ],
   "source": [
    "# 设置全局字体为微软雅黑\n",
    "plt.rcParams['font.sans-serif'] = ['Microsoft YaHei']  # 设置字体为微软雅黑\n",
    "plt.rcParams['axes.unicode_minus'] = False  # 解决负号显示问题\n",
    "\n",
    "# 定义 x 的范围\n",
    "x = np.linspace(-5, 5, 50)\n",
    "\n",
    "# 根据方程计算 y 的值\n",
    "y1 = 2 * x  # y = 2x\n",
    "y2 = 0.5 * x + 1.5  # y = 0.5x + 1.5\n",
    "\n",
    "# 创建图形\n",
    "plt.figure(figsize=(5, 5))\n",
    "\n",
    "# 绘制两条直线\n",
    "plt.plot(x, y1, label='2x - y = 0', color='blue')\n",
    "plt.plot(x, y2, label='-x + 2y = 3', color='red')\n",
    "\n",
    "# 设置图形属性\n",
    "plt.axhline(0, color='black', linewidth=0.5)\n",
    "plt.axvline(0, color='black', linewidth=0.5)\n",
    "plt.grid(True, which='both', linestyle='--', linewidth=0.5)\n",
    "plt.xlabel('x')\n",
    "plt.ylabel('y')\n",
    "plt.legend()\n",
    "\n",
    "# 设置坐标轴范围\n",
    "plt.xlim(-3, 3)\n",
    "plt.ylim(-3, 3)\n",
    "\n",
    "# 求解方程组\n",
    "A = np.array([[2, -1], [-1, 2]])\n",
    "b = np.array([0, 3])\n",
    "solution = np.linalg.solve(A, b)\n",
    "print(\"方程组的解为:\", solution)\n",
    "\n",
    "# 在图上标注解的位置\n",
    "plt.plot(solution[0], solution[1], 'ko')  # 'ko' 表示黑色圆点\n",
    "plt.text(solution[0], solution[1], '({:.2f}, {:.2f})'.format(solution[0], solution[1]), fontsize=12)\n",
    "\n",
    "# 显示图形\n",
    "plt.show()"
   ]
  },
  {
   "cell_type": "markdown",
   "id": "d057da8f",
   "metadata": {},
   "source": [
    "### 两条线段相交点同时满足2个式子 如:x=1 ,y=2"
   ]
  },
  {
   "cell_type": "markdown",
   "id": "7cefda4a",
   "metadata": {},
   "source": [
    "$\n",
    "\\begin{cases}\n",
    "2x - y = 0 \\\\\n",
    "-x + 2y = 3\n",
    "\\end{cases}\n",
    "$  \n"
   ]
  },
  {
   "cell_type": "markdown",
   "id": "6bc3a06f",
   "metadata": {},
   "source": [
    "##### 第一个式子: 2x-y=0  "
   ]
  },
  {
   "cell_type": "markdown",
   "id": "439d2104",
   "metadata": {},
   "source": [
    "当x=0 那y=0  \n",
    "**过坐标轴0点**   \n"
   ]
  },
  {
   "cell_type": "markdown",
   "id": "4493bacd",
   "metadata": {},
   "source": [
    "当x=1 那y=2:  \n",
    "2x-y=0  \n",
    "2-y=0  \n",
    "y=2 "
   ]
  },
  {
   "cell_type": "markdown",
   "id": "8fa8cdb7",
   "metadata": {},
   "source": [
    "当x分别取0 1 2 3...时 y的值为:  \n",
    "x=0 y=0  \n",
    "x=1 y=2  \n",
    "x=2 y=4  \n",
    "....\n"
   ]
  },
  {
   "cell_type": "markdown",
   "id": "b0d6829c",
   "metadata": {},
   "source": [
    "##### 第二个式子: -x+2y=3"
   ]
  },
  {
   "cell_type": "markdown",
   "id": "a34b37c8",
   "metadata": {},
   "source": [
    "当x=0 那y≠0  \n",
    "所以不过0点坐标轴"
   ]
  },
  {
   "cell_type": "markdown",
   "id": "bd1d1ab0",
   "metadata": {},
   "source": [
    "当y分别取值为0 1 2 3时:  \n",
    "y=0 x=-3  \n",
    "y=1 x=-1  \n",
    "y=2 x=1   \n",
    "y=3 x=3"
   ]
  },
  {
   "cell_type": "markdown",
   "id": "cc4915d2",
   "metadata": {},
   "source": [
    "或者:"
   ]
  },
  {
   "cell_type": "markdown",
   "id": "df625e36",
   "metadata": {},
   "source": [
    "当x分别取值为0 1 2 3时:  \n",
    "x=0 y=1.5  \n",
    "x=1 y=2  \n",
    "x=2 y=2.5  \n",
    "x=3 y=3"
   ]
  },
  {
   "cell_type": "markdown",
   "id": "5905960f",
   "metadata": {},
   "source": [
    "### **线性代数结论: x取值后求出y的值 最后把xy的坐标点用线连起来**"
   ]
  },
  {
   "cell_type": "markdown",
   "id": "82104207",
   "metadata": {},
   "source": [
    "## 进阶"
   ]
  },
  {
   "cell_type": "markdown",
   "id": "89344ced",
   "metadata": {},
   "source": [
    "### 原式衍变:"
   ]
  },
  {
   "cell_type": "markdown",
   "id": "484df75f",
   "metadata": {},
   "source": [
    "$\n",
    "\\begin{cases}\n",
    "2x - y = 0 \\\\\n",
    "-x + 2y = 3\n",
    "\\end{cases}\n",
    "$"
   ]
  },
  {
   "cell_type": "markdown",
   "id": "53d8e99e",
   "metadata": {},
   "source": [
    "抽离分类:"
   ]
  },
  {
   "cell_type": "markdown",
   "id": "9b0a55cf",
   "metadata": {},
   "source": [
    "$\n",
    "\\begin{bmatrix} 2 & -1 \\\\ -1 & 2 \\end{bmatrix} \\begin{bmatrix} x \\\\ y \\end{bmatrix} = \\begin{bmatrix} 0 \\\\ 3 \\end{bmatrix}\n",
    "$"
   ]
  },
  {
   "cell_type": "markdown",
   "id": "1c296b08",
   "metadata": {},
   "source": [
    "**线性组合:**  \n",
    "从中间(竖直)切开为列  \n",
    "标明xy乘以[ ]中的值"
   ]
  },
  {
   "cell_type": "markdown",
   "id": "c29e1408",
   "metadata": {},
   "source": [
    "$\n",
    "x \\begin{bmatrix} 2 \\\\ -1 \\end{bmatrix} + y \\begin{bmatrix} -1 \\\\ 2 \\end{bmatrix} = \\begin{bmatrix} 0 \\\\ 3 \\end{bmatrix}\n",
    "$"
   ]
  },
  {
   "cell_type": "markdown",
   "id": "89434ad2",
   "metadata": {},
   "source": [
    "### 代入数"
   ]
  },
  {
   "cell_type": "markdown",
   "id": "91f693ed",
   "metadata": {},
   "source": [
    "刚才求出x=1,y=2同时满足2个式子  \n",
    "又因为答案是0和3,符合xy的取值   \n",
    "代入得出:"
   ]
  },
  {
   "cell_type": "markdown",
   "id": "f3208021",
   "metadata": {},
   "source": [
    "$\n",
    "1 \\begin{bmatrix} 2 \\\\ -1 \\end{bmatrix} + 2 \\begin{bmatrix} -1 \\\\ 2 \\end{bmatrix} = \\begin{bmatrix} 0 \\\\ 3 \\end{bmatrix}\n",
    "$"
   ]
  },
  {
   "cell_type": "markdown",
   "id": "3887a428",
   "metadata": {},
   "source": [
    "X线段后 加上2倍Y的线段长度 刚好就是0,3"
   ]
  },
  {
   "cell_type": "markdown",
   "id": "c6de59de",
   "metadata": {},
   "source": [
    "<img src=\"img/1.png\" width=\"300\">"
   ]
  },
  {
   "cell_type": "markdown",
   "id": "ad3db303",
   "metadata": {},
   "source": [
    "## 三元方程"
   ]
  },
  {
   "cell_type": "markdown",
   "id": "5d105f84",
   "metadata": {},
   "source": [
    "#### 结论每个式子都是一个平面 相交的所有点为方程解"
   ]
  },
  {
   "cell_type": "markdown",
   "id": "dad3a161",
   "metadata": {},
   "source": [
    "2x-y=0 (2x-y+0z=0)  \n",
    "-x+2y-z=-1  \n",
    "-3y+4z=4  "
   ]
  },
  {
   "cell_type": "markdown",
   "id": "6e0090e4",
   "metadata": {},
   "source": [
    "<img src=\"img/1.三元方程图解.excalidraw.png\" width=\"600\">"
   ]
  },
  {
   "cell_type": "markdown",
   "id": "81a2a499",
   "metadata": {},
   "source": [
    "三元方程解:"
   ]
  },
  {
   "cell_type": "markdown",
   "id": "28d30cfb",
   "metadata": {},
   "source": [
    "<img src=\"img/1.三元方程列式.excalidraw.png\" width=\"600\">"
   ]
  },
  {
   "cell_type": "markdown",
   "id": "51853bd5",
   "metadata": {},
   "source": [
    "#### 更改右侧向量值 左侧矩阵不变"
   ]
  },
  {
   "cell_type": "markdown",
   "id": "7fb443bc",
   "metadata": {},
   "source": [
    "原始方程组：\n",
    "\n",
    "$\\begin{cases}\n",
    "2x - y = 1 \\\\\n",
    "-x + 2y - z = 1 \\\\\n",
    "-3y + 4z = -3\n",
    "\\end{cases}$"
   ]
  },
  {
   "cell_type": "markdown",
   "id": "2542a0f2",
   "metadata": {},
   "source": [
    "#### 矩阵形式："
   ]
  },
  {
   "cell_type": "markdown",
   "id": "0991a04e",
   "metadata": {},
   "source": [
    "$$\\begin{bmatrix}\n",
    "2 & -1 & 0 \\\\\n",
    "-1 & 2 & -1 \\\\\n",
    "0 & -3 & 4\n",
    "\\end{bmatrix}\n",
    "\\begin{bmatrix}\n",
    "x \\\\\n",
    "y \\\\\n",
    "z\n",
    "\\end{bmatrix}\n",
    "=\n",
    "\\begin{bmatrix}\n",
    "1 \\\\\n",
    "1 \\\\\n",
    "-3\n",
    "\\end{bmatrix}$$"
   ]
  },
  {
   "cell_type": "markdown",
   "id": "6ff8b451",
   "metadata": {},
   "source": [
    "或"
   ]
  },
  {
   "cell_type": "markdown",
   "id": "4f12348b",
   "metadata": {},
   "source": [
    "$\n",
    "x \\begin{bmatrix} 2 \\\\ -1 \\\\ 0 \\end{bmatrix} + \n",
    "y \\begin{bmatrix} -1 \\\\ 2 \\\\ -3 \\end{bmatrix} +\n",
    "z \\begin{bmatrix} 0 \\\\ -1 \\\\ 4 \\end{bmatrix} =\n",
    "\\begin{bmatrix} 1 \\\\ 1 \\\\ -3 \\end{bmatrix}\n",
    "$"
   ]
  },
  {
   "cell_type": "markdown",
   "id": "284f4006",
   "metadata": {},
   "source": [
    "解为:x取1 y取1 z取0"
   ]
  },
  {
   "cell_type": "markdown",
   "id": "99e7ae80",
   "metadata": {},
   "source": [
    "## 矩阵的运算"
   ]
  },
  {
   "cell_type": "markdown",
   "id": "1ac44a2f",
   "metadata": {},
   "source": [
    "$\n",
    "\\begin{bmatrix} 2 & 5 \\\\ 1 & 3 \\end{bmatrix} \\begin{bmatrix} 1 \\\\ 2 \\end{bmatrix} = \n",
    "$"
   ]
  },
  {
   "cell_type": "markdown",
   "id": "0e65d482",
   "metadata": {},
   "source": [
    "把左面的1,2 看做x,y"
   ]
  },
  {
   "cell_type": "markdown",
   "id": "430d3d64",
   "metadata": {},
   "source": [
    "$\n",
    "1 \\begin{bmatrix} 2 \\\\ 1 \\end{bmatrix} + \n",
    "2 \\begin{bmatrix} 3 \\\\ 5 \\end{bmatrix} =\n",
    "\\begin{bmatrix} 12 \\\\ 7 \\end{bmatrix}\n",
    "$"
   ]
  }
 ],
 "metadata": {
  "kernelspec": {
   "display_name": "Python 3",
   "language": "python",
   "name": "python3"
  },
  "language_info": {
   "codemirror_mode": {
    "name": "ipython",
    "version": 3
   },
   "file_extension": ".py",
   "mimetype": "text/x-python",
   "name": "python",
   "nbconvert_exporter": "python",
   "pygments_lexer": "ipython3",
   "version": "3.13.3"
  }
 },
 "nbformat": 4,
 "nbformat_minor": 5
}
