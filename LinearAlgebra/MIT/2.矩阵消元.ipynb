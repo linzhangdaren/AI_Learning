{
 "cells": [
  {
   "cell_type": "markdown",
   "id": "b29e4b66",
   "metadata": {
    "vscode": {
     "languageId": "plaintext"
    }
   },
   "source": [
    "## 消元法"
   ]
  },
  {
   "cell_type": "markdown",
   "id": "32f4cbc3",
   "metadata": {},
   "source": [
    "$$\n",
    "\\begin{cases}\n",
    "x + 2y + z = 2 \\\\\n",
    "3x + 8y + z = 12 \\\\\n",
    "x + 4y + z = 2\n",
    "\\end{cases} \n",
    "$$"
   ]
  },
  {
   "cell_type": "markdown",
   "id": "f9e101e8",
   "metadata": {},
   "source": [
    "### 1.简化:先做左面的等号右面的一会再说"
   ]
  },
  {
   "cell_type": "markdown",
   "id": "3d1e0306",
   "metadata": {},
   "source": [
    "$$\n",
    "A \\begin{bmatrix}\n",
    "1 & 2 & 1 \\\\\n",
    "3 & 8 & 1 \\\\\n",
    "0 & 4 & 1\n",
    "\\end{bmatrix}\n",
    "=\n",
    "\\begin{bmatrix}\n",
    "2 \\\\\n",
    "12 \\\\\n",
    "2\n",
    "\\end{bmatrix}\n",
    "$$"
   ]
  },
  {
   "cell_type": "markdown",
   "id": "6be5622c",
   "metadata": {},
   "source": [
    "$\n",
    "\\begin{bmatrix}\n",
    "1 & 2 & 1 \\\\\n",
    "3 & 8 & 1 \\\\\n",
    "0 & 4 & 1\n",
    "\\end{bmatrix}\n",
    "$\n",
    "把第一行第一列的1设置为主元:\n",
    "$\n",
    "\\begin{bmatrix}\n",
    "① & 2 & 1 \\\\\n",
    "3 & 8 & 1 \\\\\n",
    "0 & 4 & 1\n",
    "\\end{bmatrix}\n",
    "$\n"
   ]
  },
  {
   "cell_type": "markdown",
   "id": "218f0c4d",
   "metadata": {},
   "source": [
    "### 2.矩阵的消元\n",
    "如何消掉第二行的一个数3使其变为0呢?  "
   ]
  },
  {
   "cell_type": "markdown",
   "id": "2e524107",
   "metadata": {},
   "source": [
    "#### ①. 削第二行\n",
    "用第二行减去(第一行的3倍)  \n",
    "\n",
    "锁定第一个元素为主元  \n",
    "**主元:所在行值先固定不变且不为0**  \n",
    "如果主元为0,则换行"
   ]
  },
  {
   "cell_type": "markdown",
   "id": "4433b98c",
   "metadata": {},
   "source": [
    "$\n",
    "\\begin{bmatrix}\n",
    "① & 2 & 1 \\\\\n",
    "3 & 8 & 1 \\\\\n",
    "0 & 4 & 1\n",
    "\\end{bmatrix}\n",
    "$\n",
    "第二行削元后\n",
    "$\n",
    "\\begin{bmatrix}\n",
    "① & 2 & 1 \\\\\n",
    "0 & 2 & -2 \\\\\n",
    "0 & 4 & 1\n",
    "\\end{bmatrix}\n",
    "$"
   ]
  },
  {
   "cell_type": "markdown",
   "id": "0b4d1436",
   "metadata": {},
   "source": [
    "***<small>\n",
    " 第二行`[3, 8, 1]`  \n",
    "减 `[3, 6, 3]` (第一行的3倍)  \n",
    "得 `[0, 2, -2]`  \n",
    "注: 第一行仍是锁定不变的，只不过拿出来做运算而已。\n",
    "</small>。***"
   ]
  },
  {
   "cell_type": "markdown",
   "id": "d107108f",
   "metadata": {},
   "source": [
    "#### ②削第三行\n",
    "把第三行的第二列元素想办法4给削成0   \n",
    "把第二行的第二列数字作为主元"
   ]
  },
  {
   "cell_type": "markdown",
   "id": "745219fb",
   "metadata": {},
   "source": [
    "$\n",
    "\\begin{bmatrix}\n",
    "① & 2 & 1 \\\\\n",
    "0 & ② & -2 \\\\\n",
    "0 & 4 & 1\n",
    "\\end{bmatrix}\n",
    "$"
   ]
  },
  {
   "cell_type": "markdown",
   "id": "7856cf73",
   "metadata": {},
   "source": [
    "第三行`[0,4,1]`  \n",
    "减`[0,4,-4]`(第二行的2倍)  \n",
    "得`[0,0,5]`"
   ]
  },
  {
   "cell_type": "markdown",
   "id": "a16185ae",
   "metadata": {},
   "source": [
    "$\n",
    "\\begin{bmatrix}\n",
    "① & 2 & 1 \\\\\n",
    "0 & ② & -2 \\\\\n",
    "0 & 4 & 1\n",
    "\\end{bmatrix}\n",
    "$\n",
    "第三行削元后\n",
    "$\n",
    "\\begin{bmatrix}\n",
    "① & 2 & 1 \\\\\n",
    "0 & ② & -2 \\\\\n",
    "0 & 0 & ⑤\n",
    "\\end{bmatrix}\n",
    "$"
   ]
  },
  {
   "cell_type": "markdown",
   "id": "88f2860d",
   "metadata": {},
   "source": [
    "### 3.削元整体步骤"
   ]
  },
  {
   "cell_type": "markdown",
   "id": "500dc660",
   "metadata": {},
   "source": [
    "$\n",
    "\\begin{bmatrix}\n",
    "① & 2 & 1 \\\\\n",
    "3 & 8 & 1 \\\\\n",
    "0 & 4 & 1\n",
    "\\end{bmatrix}\n",
    "$\n",
    "第二行削元 减一行的三倍\n",
    "$\n",
    "\\begin{bmatrix}\n",
    "① & 2 & 1 \\\\\n",
    "0 & ② & -2 \\\\\n",
    "0 & 4 & 1\n",
    "\\end{bmatrix}\n",
    "$\n",
    "第三行削元 减二行的二倍\n",
    "$\n",
    "\\begin{bmatrix}\n",
    "① & 2 & 1 \\\\\n",
    "0 & ② & -2 \\\\\n",
    "0 & 0 & ⑤\n",
    "\\end{bmatrix}\n",
    "$"
   ]
  },
  {
   "cell_type": "markdown",
   "id": "bbfccaba",
   "metadata": {},
   "source": [
    "### 4.无解的方程"
   ]
  },
  {
   "cell_type": "markdown",
   "id": "077d57cc",
   "metadata": {},
   "source": [
    "由于主元不能为0   \n",
    "出现0的情况需要换行  \n",
    "如果都换行了最后一个主元还是0，则无解 如:  \n",
    "三行三列的元素为0 [0,0,5]最后得出[0,0,0] 削元无效"
   ]
  },
  {
   "cell_type": "markdown",
   "id": "5ce4f4cf",
   "metadata": {},
   "source": [
    "### 5.回代"
   ]
  },
  {
   "cell_type": "markdown",
   "id": "505604a1",
   "metadata": {},
   "source": [
    "也就是开始引入右侧的向量  \n",
    "Ax=b 引入b  \n",
    "称为增广(增加)矩阵 augmented matrix"
   ]
  },
  {
   "cell_type": "markdown",
   "id": "ae19f2d7",
   "metadata": {},
   "source": [
    "第二行削元 减一行的三倍  \n",
    "第三行削元 减二行的二倍  \n",
    "得:  \n",
    "Ux=c\n"
   ]
  },
  {
   "cell_type": "markdown",
   "id": "4d6f9e51",
   "metadata": {},
   "source": [
    "$$\n",
    "A \\begin{bmatrix}\n",
    "1 & 2 & 1 \\\\\n",
    "3 & 8 & 1 \\\\\n",
    "0 & 4 & 1\n",
    "\\end{bmatrix}\n",
    "=\n",
    "\\begin{bmatrix}\n",
    "2 \\\\\n",
    "12 \\\\\n",
    "2\n",
    "\\end{bmatrix}\n",
    "$$\n",
    "计算后:\n",
    "$$\n",
    "U\\begin{bmatrix}\n",
    "① & 2 & 1 \\\\\n",
    "0 & ② & -2 \\\\\n",
    "0 & 0 & ⑤\n",
    "\\end{bmatrix}\n",
    "=\n",
    "\\begin{bmatrix}\n",
    "2 \\\\\n",
    "6 \\\\\n",
    "-10\n",
    "\\end{bmatrix}\n",
    "$$"
   ]
  },
  {
   "cell_type": "markdown",
   "id": "1909987a",
   "metadata": {},
   "source": [
    "写回成xyz方程组形式"
   ]
  },
  {
   "cell_type": "markdown",
   "id": "2eb1cee7",
   "metadata": {},
   "source": [
    "$$\n",
    "\\begin{cases}\n",
    "x + 2y + z = 2 \\\\\n",
    "2y-2z = 6 \\\\\n",
    "5z = -10\n",
    "\\end{cases} \n",
    "$$\n",
    "\n",
    "求出xyz值为:  \n",
    "x=2  \n",
    "y=1  \n",
    "z=-2\n"
   ]
  }
 ],
 "metadata": {
  "kernelspec": {
   "display_name": "Python 3",
   "language": "python",
   "name": "python3"
  },
  "language_info": {
   "codemirror_mode": {
    "name": "ipython",
    "version": 3
   },
   "file_extension": ".py",
   "mimetype": "text/x-python",
   "name": "python",
   "nbconvert_exporter": "python",
   "pygments_lexer": "ipython3",
   "version": "3.13.3"
  }
 },
 "nbformat": 4,
 "nbformat_minor": 5
}
